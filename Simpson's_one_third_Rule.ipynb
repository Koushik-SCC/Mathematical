{
  "nbformat": 4,
  "nbformat_minor": 0,
  "metadata": {
    "colab": {
      "name": "Simpson's_one_third_Rule.ipynb",
      "provenance": [],
      "authorship_tag": "ABX9TyMy+5aHdzo7xu40Sodb6UhN",
      "include_colab_link": true
    },
    "kernelspec": {
      "name": "python3",
      "display_name": "Python 3"
    },
    "language_info": {
      "name": "python"
    }
  },
  "cells": [
    {
      "cell_type": "markdown",
      "metadata": {
        "id": "view-in-github",
        "colab_type": "text"
      },
      "source": [
        "<a href=\"https://colab.research.google.com/github/Koushik-SCC/Mathematical/blob/main/Simpson's_one_third_Rule.ipynb\" target=\"_parent\"><img src=\"https://colab.research.google.com/assets/colab-badge.svg\" alt=\"Open In Colab\"/></a>"
      ]
    },
    {
      "cell_type": "code",
      "execution_count": 18,
      "metadata": {
        "colab": {
          "base_uri": "https://localhost:8080/"
        },
        "id": "O5jxfnF4tLqr",
        "outputId": "900c3507-6511-4e8d-e0a9-f12c59fcff02"
      },
      "outputs": [
        {
          "output_type": "stream",
          "name": "stdout",
          "text": [
            "Enter n: 10\n",
            "Enter the lower limit: 0\n",
            "Enter the upper limit: 10\n",
            "Value of the Integartion=  1.431665991798952\n",
            "By quad func. : 1.4711276743037354\n"
          ]
        }
      ],
      "source": [
        "#Simpson's 1/3 Rule\n",
        "import numpy as np\n",
        "from scipy.integrate import quad\n",
        "\n",
        "f = lambda x: 1/(1+x**2)\n",
        "\n",
        "n = eval(input('Enter n: '))\n",
        "a = eval(input('Enter the lower limit: '))\n",
        "b = eval(input('Enter the upper limit: '))\n",
        "h = (b-a)/n\n",
        "\n",
        "s1 = 0\n",
        "for i in range(2,n-1,2):\n",
        "    s1 += 2*f(a+i*h)\n",
        "s2 = 0\n",
        "for i in range(1,n,2):\n",
        "    s2 += 4*f(a+i*h)\n",
        "    \n",
        "I = (h/3)*(f(a)+f(b)+s1+s2)\n",
        "print('Value of the Integartion= ',I)\n",
        "v,e = quad(f,a,b)\n",
        "print('By quad func. :',v)"
      ]
    }
  ]
}