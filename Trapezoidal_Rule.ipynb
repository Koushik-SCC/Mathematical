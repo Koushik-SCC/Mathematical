{
  "nbformat": 4,
  "nbformat_minor": 0,
  "metadata": {
    "colab": {
      "name": "Trapezoidal_Rule.ipynb",
      "provenance": [],
      "authorship_tag": "ABX9TyMTfJKb28EFgiUkuTZBUevw",
      "include_colab_link": true
    },
    "kernelspec": {
      "name": "python3",
      "display_name": "Python 3"
    },
    "language_info": {
      "name": "python"
    }
  },
  "cells": [
    {
      "cell_type": "markdown",
      "metadata": {
        "id": "view-in-github",
        "colab_type": "text"
      },
      "source": [
        "<a href=\"https://colab.research.google.com/github/Koushik-SCC/Mathematical/blob/main/Trapezoidal_Rule.ipynb\" target=\"_parent\"><img src=\"https://colab.research.google.com/assets/colab-badge.svg\" alt=\"Open In Colab\"/></a>"
      ]
    },
    {
      "cell_type": "code",
      "execution_count": 15,
      "metadata": {
        "colab": {
          "base_uri": "https://localhost:8080/"
        },
        "id": "O5jxfnF4tLqr",
        "outputId": "6c1336c5-436c-4c6b-f862-674760332774"
      },
      "outputs": [
        {
          "output_type": "stream",
          "name": "stdout",
          "text": [
            "Enter n: 10\n",
            "Enter the lower limit: 0\n",
            "Enter the upper limit: 5\n",
            "Value of the Integartion,I=  0.7013515555057225\n",
            "By quad func. : 0.7163378145367737\n"
          ]
        }
      ],
      "source": [
        "#Trapezoidal Rule\n",
        "\n",
        "import numpy as np\n",
        "from scipy.integrate import quad \n",
        "def f(x):\n",
        "    f = np.sin(x)\n",
        "    return f\n",
        "\n",
        "n = eval(input('Enter n: '))\n",
        "a = eval(input('Enter the lower limit: '))\n",
        "b = eval(input('Enter the upper limit: '))\n",
        "h = (b-a)/n\n",
        "\n",
        "s = 0\n",
        "for i in range(1,n):\n",
        "    s += 2*f(a+i*h)\n",
        "    \n",
        "I = (h/2)*(f(a)+f(b)+s)\n",
        "print('Value of the Integartion,I= ',I)\n",
        "v,e = quad(f,a,b)\n",
        "print('By quad func. :',v)"
      ]
    }
  ]
}