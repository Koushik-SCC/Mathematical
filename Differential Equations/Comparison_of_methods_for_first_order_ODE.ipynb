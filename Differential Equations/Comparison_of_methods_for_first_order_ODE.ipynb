{
  "nbformat": 4,
  "nbformat_minor": 0,
  "metadata": {
    "colab": {
      "name": "Comparison_of_methods_for_first_order_ODE.ipynb",
      "provenance": [],
      "authorship_tag": "ABX9TyPudblYT7aJ5Fl29zFn1u4I",
      "include_colab_link": true
    },
    "kernelspec": {
      "name": "python3",
      "display_name": "Python 3"
    },
    "language_info": {
      "name": "python"
    }
  },
  "cells": [
    {
      "cell_type": "markdown",
      "metadata": {
        "id": "view-in-github",
        "colab_type": "text"
      },
      "source": [
        "<a href=\"https://colab.research.google.com/github/Koushik-SCC/Mathematical/blob/main/Differential%20Equations/Comparison_of_methods_for_first_order_ODE.ipynb\" target=\"_parent\"><img src=\"https://colab.research.google.com/assets/colab-badge.svg\" alt=\"Open In Colab\"/></a>"
      ]
    },
    {
      "cell_type": "code",
      "execution_count": 1,
      "metadata": {
        "colab": {
          "base_uri": "https://localhost:8080/",
          "height": 335
        },
        "id": "O5jxfnF4tLqr",
        "outputId": "a491a005-1b03-479b-dcd3-86d092e117d5"
      },
      "outputs": [
        {
          "output_type": "stream",
          "name": "stdout",
          "text": [
            "The x co-ordinates :     [0.0, 0.1, 0.2, 0.30000000000000004, 0.4, 0.5, 0.6000000000000001, 0.7000000000000001, 0.8, 0.9, 1.0, 1.1, 1.2000000000000002, 1.3, 1.4000000000000001, 1.5, 1.6, 1.7000000000000002, 1.8, 1.9000000000000001, 2.0]\n",
            "Corresponding y values : [0, 0.11052500000000001, 0.24321038781250004, 0.40038882125961334, 0.5846384995574534, 0.7988090096171199, 1.046049892991942, 1.3298422198530062, 1.6540334865202833, 2.022876186395125, 2.4410704409655417, 2.913811118257677, 3.4468399110932757, 4.046502897234731, 4.719814158454902, 5.474526096309261, 6.319207149522015, 7.263327692098576, 8.317354973288102, 9.492858051163841, 10.802623771774474]\n"
          ]
        },
        {
          "output_type": "display_data",
          "data": {
            "image/png": "[encoded data removed]",
            "text/plain": [
              "<Figure size 432x288 with 1 Axes>"
            ]
          },
          "metadata": {
            "needs_background": "light"
          }
        }
      ],
      "source": [
        "#Modified Euler's Method or Predictor-Corrector Method\n",
        "\n",
        "import numpy as np\n",
        "\n",
        "#Initial Conditions and step\n",
        "x0,y0,h = 0,0,0.1\n",
        "y = y0\n",
        "x = 2 # the x-value in which we want y\n",
        "n = 3 # number of times we want the y value to be modified\n",
        "X = []\n",
        "Y = []\n",
        "\n",
        "def f(x,y):\n",
        "    a = x+y+1\n",
        "    return a\n",
        "\n",
        "for i in np.arange(x0,x+h,h):\n",
        "    X.append(i)\n",
        "    y_n = y\n",
        "    Y.append(y_n)\n",
        "    y += h*f(i,y)\n",
        "    for j in range(n):\n",
        "        y = y_n + (h/2)*(f(i,y_n)+f(i+h,y))\n",
        "        \n",
        "        \n",
        "x00,y00,h0 = 0,0,0.1\n",
        "y_e = y00\n",
        "x_e = 2 # the x-value in which we want y      \n",
        "X1 = []\n",
        "Y1 = []\n",
        "for i in np.arange(x00,x_e+h0,h0):\n",
        "    X1.append(i)\n",
        "    Y1.append(y_e)\n",
        "    y_e += h*f(i,y_e)\n",
        "\n",
        "\n",
        "\n",
        "        \n",
        "# to print the solution\n",
        "print('The x co-ordinates :    ',X)\n",
        "print('Corresponding y values :',Y)\n",
        "\n",
        "# for plotting\n",
        "import matplotlib.pyplot as plt\n",
        "plt.plot(X,Y,'o',label='Modified Euler')\n",
        "plt.plot(X1,Y1,'^',label='Euler')\n",
        "plt.plot(X,2*np.exp(X)-X-2,label='Exact')    #exact solution is y = 2e^(x)-x-2\n",
        "plt.legend()\n",
        "plt.title('Comparison of solutions')\n",
        "plt.show()\n",
        "        "
      ]
    }
  ]
}