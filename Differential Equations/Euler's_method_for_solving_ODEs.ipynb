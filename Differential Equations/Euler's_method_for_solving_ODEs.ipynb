{
  "cells": [
    {
      "cell_type": "markdown",
      "metadata": {
        "id": "view-in-github",
        "colab_type": "text"
      },
      "source": [
        "<a href=\"https://colab.research.google.com/github/Koushik-SCC/Mathematical/blob/main/Differential%20Equations/Euler's_method_for_solving_ODEs.ipynb\" target=\"_parent\"><img src=\"https://colab.research.google.com/assets/colab-badge.svg\" alt=\"Open In Colab\"/></a>"
      ]
    },
    {
      "cell_type": "markdown",
      "id": "52bf987c",
      "metadata": {
        "id": "52bf987c"
      },
      "source": [
        "## Euler's Method for Solving ODE"
      ]
    },
    {
      "cell_type": "code",
      "execution_count": null,
      "id": "57092a9d",
      "metadata": {
        "colab": {
          "base_uri": "https://localhost:8080/",
          "height": 319
        },
        "id": "57092a9d",
        "outputId": "bc28ce67-1ae0-462d-bf37-81a1510f42e9"
      },
      "outputs": [
        {
          "output_type": "stream",
          "name": "stdout",
          "text": [
            "The x co-ordinates :     [0.0, 0.1, 0.2, 0.30000000000000004, 0.4, 0.5, 0.6000000000000001, 0.7000000000000001, 0.8, 0.9, 1.0]\n",
            "Corresponding y values : [1, 1.1, 1.2100000000000002, 1.3310000000000002, 1.4641000000000002, 1.61051, 1.7715610000000002, 1.9487171, 2.1435888100000002, 2.357947691, 2.5937424601]\n"
          ]
        },
        {
          "output_type": "display_data",
          "data": {
            "image/png": "[encoded data removed]",
            "text/plain": [
              "<Figure size 432x288 with 1 Axes>"
            ]
          },
          "metadata": {
            "needs_background": "light"
          }
        }
      ],
      "source": [
        "#Euler's Method for solving ODE\n",
        "import numpy as np\n",
        "import matplotlib.pyplot as plt\n",
        "#Initial Conditions\n",
        "x0 = 0\n",
        "y0 = 1\n",
        "#step\n",
        "h = 0.1\n",
        "x = 1  #the x_coordinate in which we want the y value\n",
        "def f(x,y):\n",
        "    a = y\n",
        "    return a\n",
        "y = y0\n",
        "X = []\n",
        "Y = []\n",
        "for i in np.arange(x0,x+h,h):\n",
        "    X.append(i)\n",
        "    Y.append(y)\n",
        "    y += h*f(i,y)\n",
        "# to print the solution\n",
        "print('The x co-ordinates :    ',X)\n",
        "print('Corresponding y values :',Y)\n",
        "# the plot\n",
        "plt.plot(X,Y,label='calculated')\n",
        "plt.plot(X,np.exp(X),label='actual') #the actual solution is exp(x)\n",
        "plt.legend()\n",
        "plt.show()"
      ]
    }
  ],
  "metadata": {
    "kernelspec": {
      "display_name": "Python 3",
      "language": "python",
      "name": "python3"
    },
    "language_info": {
      "codemirror_mode": {
        "name": "ipython",
        "version": 3
      },
      "file_extension": ".py",
      "mimetype": "text/x-python",
      "name": "python",
      "nbconvert_exporter": "python",
      "pygments_lexer": "ipython3",
      "version": "3.8.8"
    },
    "colab": {
      "name": "Euler's_method_for_solving_ODEs.ipynb",
      "provenance": [],
      "include_colab_link": true
    }
  },
  "nbformat": 4,
  "nbformat_minor": 5
}