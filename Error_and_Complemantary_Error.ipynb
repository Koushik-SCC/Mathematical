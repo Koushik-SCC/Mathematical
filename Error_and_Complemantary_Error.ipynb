{
  "nbformat": 4,
  "nbformat_minor": 0,
  "metadata": {
    "colab": {
      "name": "Error and Complemantary Error.ipynb",
      "provenance": [],
      "collapsed_sections": [],
      "authorship_tag": "ABX9TyN8eTs5UaTOP+8IW62/v7qa",
      "include_colab_link": true
    },
    "kernelspec": {
      "name": "python3",
      "display_name": "Python 3"
    },
    "language_info": {
      "name": "python"
    }
  },
  "cells": [
    {
      "cell_type": "markdown",
      "metadata": {
        "id": "view-in-github",
        "colab_type": "text"
      },
      "source": [
        "<a href=\"https://colab.research.google.com/github/Koushik-SCC/Mathematical/blob/main/Error_and_Complemantary_Error.ipynb\" target=\"_parent\"><img src=\"https://colab.research.google.com/assets/colab-badge.svg\" alt=\"Open In Colab\"/></a>"
      ]
    },
    {
      "cell_type": "markdown",
      "metadata": {
        "id": "1RQRlhiI9FYU"
      },
      "source": [
        "**error**"
      ]
    },
    {
      "cell_type": "code",
      "metadata": {
        "colab": {
          "base_uri": "https://localhost:8080/"
        },
        "id": "PuWwaf8B2vJZ",
        "outputId": "c7b75acb-44ad-4e94-bc1d-9a1969ea0488"
      },
      "source": [
        "import numpy as np\n",
        "from scipy.integrate import *\n",
        "x = eval(input('erf(x): Enter x : '))\n",
        "erf = lambda t: (2/(np.sqrt(np.pi)))*np.exp(-t**2)\n",
        "I , e = quad(erf,0,x)\n",
        "print('erf('+str(x)+')=',I,'\\nError in Calculation: ',e)"
      ],
      "execution_count": null,
      "outputs": [
        {
          "output_type": "stream",
          "name": "stdout",
          "text": [
            "erf(x): Enter x : 1\n",
            "erf(1)= 0.8427007929497149 \n",
            "Error in Calculation:  9.355858232026503e-15\n"
          ]
        }
      ]
    },
    {
      "cell_type": "markdown",
      "metadata": {
        "id": "Jplohxbu9r78"
      },
      "source": [
        "**erfc(x)**"
      ]
    },
    {
      "cell_type": "code",
      "metadata": {
        "colab": {
          "base_uri": "https://localhost:8080/"
        },
        "id": "xyJXqF-y9zrs",
        "outputId": "40a2f808-0ce5-44b3-d093-bc8e275c9ca9"
      },
      "source": [
        "import numpy as np\n",
        "from scipy.integrate import *\n",
        "x = eval(input('erf(x): Enter x: '))\n",
        "def erfc(t):\n",
        "  g = (2/(np.sqrt(np.pi)))*np.exp(-t**2)\n",
        "  return g\n",
        "I,e = quad(erfc,x,np.inf)\n",
        "print('erfc('+str(x)+')=',I,'\\nError in Calculation: ',e)"
      ],
      "execution_count": null,
      "outputs": [
        {
          "output_type": "stream",
          "name": "stdout",
          "text": [
            "erf(x): Enter x: 1\n",
            "erfc(1)= 0.15729920705028508 \n",
            "Error in Calculation:  3.467285519435188e-10\n"
          ]
        }
      ]
    },
    {
      "cell_type": "code",
      "metadata": {
        "colab": {
          "base_uri": "https://localhost:8080/"
        },
        "id": "F5vNy2dX--sV",
        "outputId": "ba6f24e0-1a22-4f13-ec07-3d7c0a0cee5d"
      },
      "source": [
        "import numpy as np\n",
        "from scipy.integrate import *\n",
        "x = eval(input('erf(x): Enter x: '))\n",
        "erf = lambda t: (2/(np.sqrt(np.pi)))*np.exp(-t**2)\n",
        "def erfc(t):\n",
        "  g = (2/(np.sqrt(np.pi)))*np.exp(-t**2)\n",
        "  return g\n",
        "I1,e1 = quad(erf,0,x)\n",
        "I2,e2 = quad(erfc,x,np.inf)\n",
        "print('')\n",
        "print('erf(x)+erfc(x)=',I1+I2)"
      ],
      "execution_count": null,
      "outputs": [
        {
          "output_type": "stream",
          "name": "stdout",
          "text": [
            "erf(x): Enter x: -5\n",
            "\n",
            "erf(x)+erfc(x)= 1.0000000000000004\n"
          ]
        }
      ]
    },
    {
      "cell_type": "markdown",
      "metadata": {
        "id": "WEkIhgXuAI-D"
      },
      "source": [
        "***plotting***"
      ]
    },
    {
      "cell_type": "code",
      "metadata": {
        "colab": {
          "base_uri": "https://localhost:8080/",
          "height": 295
        },
        "id": "wG0l9XARANqD",
        "outputId": "7ba3ee83-1a0a-47f2-e3de-2ed186e58d1b"
      },
      "source": [
        "import numpy as np\n",
        "from scipy.integrate import *\n",
        "import matplotlib.pyplot as plt\n",
        "x = np.linspace(-4,4)\n",
        "def erf(x):\n",
        "  def F(t):\n",
        "    f = (2/(np.sqrt(np.pi)))*np.exp(-t**2)\n",
        "    return f\n",
        "  h,e1 = quad(F,0,x)\n",
        "  return h\n",
        "def erfc(t):\n",
        "  g = (2/(np.sqrt(np.pi)))*np.exp(-t**2)\n",
        "  return g\n",
        "I1 = []\n",
        "for i in x:\n",
        "  I1.append(erf(i))\n",
        "I2 = []\n",
        "for i in x:\n",
        "  v,e2 = quad(erfc,i,np.inf)\n",
        "  I2.append(v)\n",
        "plt.plot(x,I1,label='erf(x)')\n",
        "plt.plot(x,I2,label='erfc(x)')\n",
        "plt.legend()\n",
        "plt.title('erf(x) & erfc(x)')\n",
        "plt.xlabel('x')\n",
        "plt.axhline(color='k')\n",
        "plt.show()"
      ],
      "execution_count": 87,
      "outputs": [
        {
          "output_type": "display_data",
          "data": {
            "image/png": "[encoded data removed]",
            "text/plain": [
              "<Figure size 432x288 with 1 Axes>"
            ]
          },
          "metadata": {
            "needs_background": "light"
          }
        }
      ]
    },
    {
      "cell_type": "code",
      "metadata": {
        "colab": {
          "base_uri": "https://localhost:8080/",
          "height": 279
        },
        "id": "lZaFoKXfJzXv",
        "outputId": "3ac4c1cd-f1f8-40bb-dbbe-606a0d8212aa"
      },
      "source": [
        "import numpy as np\n",
        "from scipy.integrate import *\n",
        "import matplotlib.pyplot as plt\n",
        "x = np.linspace(-4,4)\n",
        "def erf(x):\n",
        "  def F(t):\n",
        "    f = (2/(np.sqrt(np.pi)))*np.exp(-t**2)\n",
        "    return f\n",
        "  h,e = quad(F,0,x)\n",
        "  return h\n",
        "I1 = []\n",
        "for i in x:\n",
        "  I1.append(erf(i))\n",
        "plt.plot(x,I1,label='erf(x)')\n",
        "plt.legend()\n",
        "plt.xlabel('x')\n",
        "plt.show()"
      ],
      "execution_count": 88,
      "outputs": [
        {
          "output_type": "display_data",
          "data": {
            "image/png": "[encoded data removed]",
            "text/plain": [
              "<Figure size 432x288 with 1 Axes>"
            ]
          },
          "metadata": {
            "needs_background": "light"
          }
        }
      ]
    }
  ]
}