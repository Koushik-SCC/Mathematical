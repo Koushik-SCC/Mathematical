{
  "cells": [
    {
      "cell_type": "markdown",
      "metadata": {
        "id": "view-in-github",
        "colab_type": "text"
      },
      "source": [
        "<a href=\"https://colab.research.google.com/github/Koushik-SCC/Mathematical/blob/main/Euler's_method_for_solving_ODEs.ipynb\" target=\"_parent\"><img src=\"https://colab.research.google.com/assets/colab-badge.svg\" alt=\"Open In Colab\"/></a>"
      ]
    },
    {
      "cell_type": "markdown",
      "id": "52bf987c",
      "metadata": {
        "id": "52bf987c"
      },
      "source": [
        "## Euler's Method for Solving ODE"
      ]
    },
    {
      "cell_type": "code",
      "execution_count": 1,
      "id": "57092a9d",
      "metadata": {
        "colab": {
          "base_uri": "https://localhost:8080/"
        },
        "id": "57092a9d",
        "outputId": "a6409092-e6c5-4251-dc28-234e0c97d4bb"
      },
      "outputs": [
        {
          "output_type": "stream",
          "name": "stdout",
          "text": [
            "The x co-ordinates :     [0.0, 0.2, 0.4, 0.6000000000000001, 0.8, 1.0]\n",
            "Corresponding y values : [1, 1.2, 1.48, 1.8559999999999999, 2.3472, 2.9766399999999997]\n"
          ]
        }
      ],
      "source": [
        "#Euler's Method for solving ODE\n",
        "import numpy as np\n",
        "#Initial Conditions\n",
        "x0 = 0\n",
        "y0 = 1\n",
        "#step\n",
        "h = 0.2\n",
        "x = 1  #the x_coordinate in which we want the y value\n",
        "def f(x,y):\n",
        "    a = x+y\n",
        "    return a\n",
        "y = y0\n",
        "X = []\n",
        "Y = []\n",
        "for i in np.arange(x0,x+h,h):\n",
        "    X.append(i)\n",
        "    Y.append(y)\n",
        "    y += h*f(i,y)\n",
        "# to print the solution\n",
        "print('The x co-ordinates :    ',X)\n",
        "print('Corresponding y values :',Y)"
      ]
    }
  ],
  "metadata": {
    "kernelspec": {
      "display_name": "Python 3",
      "language": "python",
      "name": "python3"
    },
    "language_info": {
      "codemirror_mode": {
        "name": "ipython",
        "version": 3
      },
      "file_extension": ".py",
      "mimetype": "text/x-python",
      "name": "python",
      "nbconvert_exporter": "python",
      "pygments_lexer": "ipython3",
      "version": "3.8.8"
    },
    "colab": {
      "name": "Untitled22.ipynb",
      "provenance": [],
      "include_colab_link": true
    }
  },
  "nbformat": 4,
  "nbformat_minor": 5
}