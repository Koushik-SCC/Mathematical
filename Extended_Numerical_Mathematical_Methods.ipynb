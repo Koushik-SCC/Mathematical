{
  "cells": [
    {
      "cell_type": "markdown",
      "metadata": {
        "id": "view-in-github",
        "colab_type": "text"
      },
      "source": [
        "<a href=\"https://colab.research.google.com/github/Koushik-SCC/Mathematical/blob/main/Extended_Numerical_Mathematical_Methods.ipynb\" target=\"_parent\"><img src=\"https://colab.research.google.com/assets/colab-badge.svg\" alt=\"Open In Colab\"/></a>"
      ]
    },
    {
      "cell_type": "markdown",
      "id": "48e19017",
      "metadata": {
        "id": "48e19017"
      },
      "source": [
        "#### 16 points Gauss Quadrature"
      ]
    },
    {
      "cell_type": "code",
      "execution_count": null,
      "id": "b2c9b4cf",
      "metadata": {
        "id": "b2c9b4cf"
      },
      "outputs": [],
      "source": [
        "# 16 points Gauss Quadrature\n",
        "# The 16 weights\n",
        "w = [0.1894506104550685,0.1894506104550685,0.1826034150449236,0.1826034150449236,0.1691565193950025,0.1691565193950025,0.1495959888165767,0.1495959888165767,0.1246289712555339,0.1246289712555339,0.0951585116824928,0.0951585116824928,0.0622535239386479,0.0622535239386479,0.0271524594117541,0.0271524594117541]\n",
        "# The abscissae\n",
        "X = [-0.0950125098376374,0.0950125098376374,-0.2816035507792589,0.2816035507792589,-0.4580167776572274,0.4580167776572274,-0.6178762444026438,0.6178762444026438,-0.7554044083550030,0.7554044083550030,-0.8656312023878318,0.8656312023878318,-0.9445750230732326,0.9445750230732326,-0.9894009349916499,0.9894009349916499]\n",
        "# The Integration\n",
        "def GQ16(f,a,b):\n",
        "  I = 0 # to store data for the integration\n",
        "  for i in range(16):\n",
        "      xi = ((b-a)/2)*X[i] + (b+a)/2\n",
        "      I += w[i]*((b-a)/2)*f(xi)\n",
        "  return I"
      ]
    },
    {
      "cell_type": "markdown",
      "source": [
        "Improper Integrals"
      ],
      "metadata": {
        "id": "ssep-khke3XH"
      },
      "id": "ssep-khke3XH"
    },
    {
      "cell_type": "markdown",
      "id": "cee45d03",
      "metadata": {
        "id": "cee45d03"
      },
      "source": [
        "(i)  $ \\int_0^1 lnx dx $"
      ]
    },
    {
      "cell_type": "code",
      "execution_count": null,
      "id": "0fc2ac7f",
      "metadata": {
        "id": "0fc2ac7f",
        "outputId": "0ec0f490-6457-4466-e597-1089607ac293"
      },
      "outputs": [
        {
          "name": "stdout",
          "output_type": "stream",
          "text": [
            "by scipy.quad:  -1.0000000000000004\n",
            "by GQ16:  -0.9976793222210301\n"
          ]
        },
        {
          "data": {
            "image/png": "[encoded data removed]",
            "text/plain": [
              "<Figure size 432x288 with 1 Axes>"
            ]
          },
          "metadata": {
            "needs_background": "light"
          },
          "output_type": "display_data"
        }
      ],
      "source": [
        "# 1.(i)\n",
        "f = lambda x: np.log(x)\n",
        "a, b = 0, 1\n",
        "I,e = quad(f,a,b)\n",
        "print('by scipy.quad: ',I)\n",
        "print('by GQ16: ',GQ16(f,a,b))\n",
        "# for plotting x-f(x)\n",
        "x = np.linspace(0.0001,10000,1000000)\n",
        "plt.plot(x,f(x),'r',label='f(x)')\n",
        "plt.legend()\n",
        "plt.xlabel('x')\n",
        "plt.ylabel('Integrand')\n",
        "plt.xlim(0,100)\n",
        "plt.show()"
      ]
    },
    {
      "cell_type": "code",
      "execution_count": null,
      "id": "dcd8f753",
      "metadata": {
        "id": "dcd8f753",
        "outputId": "bb36319e-0f48-4167-e5d5-f23098944465"
      },
      "outputs": [
        {
          "name": "stderr",
          "output_type": "stream",
          "text": [
            "<ipython-input-3-fc5736d971fe>:2: RuntimeWarning: divide by zero encountered in log\n",
            "  f = lambda x: np.log(x)\n"
          ]
        },
        {
          "data": {
            "text/plain": [
              "-inf"
            ]
          },
          "execution_count": 4,
          "metadata": {},
          "output_type": "execute_result"
        }
      ],
      "source": [
        "x = np.linspace(0,1,1000)\n",
        "trapz(f(x),x)"
      ]
    },
    {
      "cell_type": "code",
      "execution_count": null,
      "id": "9f6ec024",
      "metadata": {
        "id": "9f6ec024",
        "outputId": "28c89cd0-d2ff-4405-98df-4b1ecd831265"
      },
      "outputs": [
        {
          "name": "stdout",
          "output_type": "stream",
          "text": [
            "by trapz:  -0.9921732228544826\n",
            "by simps:  -0.9921155439644637\n"
          ]
        }
      ],
      "source": [
        "x = np.linspace(0.001,1,1000)\n",
        "print('by trapz: ',trapz(f(x),x))\n",
        "print('by simps: ',simps(f(x),x))"
      ]
    },
    {
      "cell_type": "markdown",
      "id": "5c3d42e3",
      "metadata": {
        "id": "5c3d42e3"
      },
      "source": [
        "(ii)  $ \\int_0^4 \\frac{dx}{\\sqrt{4-x}} $"
      ]
    },
    {
      "cell_type": "code",
      "execution_count": null,
      "id": "076d9195",
      "metadata": {
        "id": "076d9195",
        "outputId": "a6592056-c966-4a48-db21-9ecc7e1d6f7a"
      },
      "outputs": [
        {
          "name": "stdout",
          "output_type": "stream",
          "text": [
            "by scipy.quad:  4.000000000000238\n",
            "by GQ16:  3.8944550228457513\n"
          ]
        },
        {
          "data": {
            "image/png": "[encoded data removed]",
            "text/plain": [
              "<Figure size 432x288 with 1 Axes>"
            ]
          },
          "metadata": {
            "needs_background": "light"
          },
          "output_type": "display_data"
        }
      ],
      "source": [
        "f = lambda x: 1/np.sqrt(4-x)\n",
        "a, b = 0, 4\n",
        "I,e = quad(f,a,b)\n",
        "print('by scipy.quad: ',I)\n",
        "print('by GQ16: ',GQ16(f,a,b))\n",
        "# for plotting x-f(x)\n",
        "x = np.linspace(0,3.99999,1000000)\n",
        "plt.plot(x,f(x),'r',label=r'$\\frac{1}{4-x}$')\n",
        "plt.legend()\n",
        "plt.xlabel('x')\n",
        "plt.ylabel('Integrand')\n",
        "plt.show()"
      ]
    },
    {
      "cell_type": "code",
      "execution_count": null,
      "id": "05fd39bd",
      "metadata": {
        "id": "05fd39bd",
        "outputId": "2f8471a6-364e-4175-86b2-a1a053fb47ff"
      },
      "outputs": [
        {
          "name": "stdout",
          "output_type": "stream",
          "text": [
            "by trapz:  3.9936963268323393\n",
            "by simps:  3.993680004701295\n"
          ]
        }
      ],
      "source": [
        "print('by trapz: ',trapz(f(x),x))\n",
        "print('by simps: ',simps(f(x),x))"
      ]
    },
    {
      "cell_type": "markdown",
      "id": "20be283c",
      "metadata": {
        "id": "20be283c"
      },
      "source": [
        "(iii)  $ \\int_1^\\infty \\frac{1}{x^3} dx $"
      ]
    },
    {
      "cell_type": "code",
      "execution_count": null,
      "id": "301fd089",
      "metadata": {
        "id": "301fd089",
        "outputId": "6421938a-32b2-4dd3-ae1e-b1a9968f60b5"
      },
      "outputs": [
        {
          "name": "stdout",
          "output_type": "stream",
          "text": [
            "by quad 0.5\n",
            "by simps 0.5004192600363908\n"
          ]
        },
        {
          "data": {
            "image/png": "[encoded data removed]",
            "text/plain": [
              "<Figure size 432x288 with 1 Axes>"
            ]
          },
          "metadata": {
            "needs_background": "light"
          },
          "output_type": "display_data"
        }
      ],
      "source": [
        "f = lambda x: 1/x**3\n",
        "a, b = 1, np.inf\n",
        "I,e = quad(f,a,b)\n",
        "print('by quad',I) \n",
        "x = np.linspace(1,10000,100000)\n",
        "print('by simps',simps(f(x),x))\n",
        "plt.plot(x,f(x),'r',label='f(x)')\n",
        "plt.legend()\n",
        "plt.xlabel('x')\n",
        "plt.ylabel('f(x)')\n",
        "plt.xlim(0,60)\n",
        "plt.show()"
      ]
    },
    {
      "cell_type": "code",
      "execution_count": null,
      "id": "37074619",
      "metadata": {
        "id": "37074619",
        "outputId": "b79cc0e8-82df-478c-cce5-24427fe307cb"
      },
      "outputs": [
        {
          "data": {
            "text/plain": [
              "9.237376478722371e-06"
            ]
          },
          "execution_count": 9,
          "metadata": {},
          "output_type": "execute_result"
        }
      ],
      "source": [
        "GQ16(f,a,100000)  # can't assign infinity to this GQ16  "
      ]
    },
    {
      "cell_type": "code",
      "execution_count": null,
      "id": "5d081147",
      "metadata": {
        "id": "5d081147",
        "outputId": "79f3decc-4706-423d-ca6f-4a4f0f37e94e"
      },
      "outputs": [
        {
          "name": "stdout",
          "output_type": "stream",
          "text": [
            "0.05591007032377546\n",
            "0.45297539457205754\n"
          ]
        }
      ],
      "source": [
        "print(GQ16(f,a,1000)) # this also doesn't give right value\n",
        "print(GQ16(f,a,100))  # this gives nearly value"
      ]
    },
    {
      "cell_type": "markdown",
      "id": "f1862126",
      "metadata": {
        "id": "f1862126"
      },
      "source": [
        "(iv)  $ \\int_2^\\infty \\frac{cos^2(x)}{x^2} dx$"
      ]
    },
    {
      "cell_type": "code",
      "execution_count": null,
      "id": "07e69edd",
      "metadata": {
        "id": "07e69edd",
        "outputId": "4f45edd7-d39e-4510-a775-b1033eaf7170"
      },
      "outputs": [
        {
          "name": "stderr",
          "output_type": "stream",
          "text": [
            "<ipython-input-11-14ece89ed0ee>:3: IntegrationWarning: The maximum number of subdivisions (50) has been achieved.\n",
            "  If increasing the limit yields no improvement it is advised to analyze \n",
            "  the integrand in order to determine the difficulties.  If the position of a \n",
            "  local difficulty can be determined (singularity, discontinuity) one will \n",
            "  probably gain from splitting up the interval and calling the integrator \n",
            "  on the subranges.  Perhaps a special-purpose integrator should be used.\n",
            "  I,e = quad(f,a,b)\n"
          ]
        },
        {
          "name": "stdout",
          "output_type": "stream",
          "text": [
            "by quad 0.2738993562165611\n",
            "by trapz 0.273944692978771\n",
            "by GQ16:  0.18937601230112105\n"
          ]
        },
        {
          "data": {
            "image/png": "[encoded data removed]",
            "text/plain": [
              "<Figure size 432x288 with 1 Axes>"
            ]
          },
          "metadata": {
            "needs_background": "light"
          },
          "output_type": "display_data"
        }
      ],
      "source": [
        "f = lambda x: (np.cos(x)**2)/x**2\n",
        "a, b = 2, np.inf\n",
        "I,e = quad(f,a,b)\n",
        "print('by quad',I)\n",
        "\n",
        "x = np.linspace(2,10000,1000000)\n",
        "print('by trapz',trapz(f(x),x))\n",
        "print('by GQ16: ',GQ16(f,a,100))\n",
        "plt.plot(x,f(x),'r',label='f(x)')\n",
        "plt.legend()\n",
        "plt.xlabel('x')\n",
        "plt.ylabel('f(x)')\n",
        "plt.fill_between(x,f(x))\n",
        "plt.xlim(0,50)\n",
        "plt.show()"
      ]
    },
    {
      "cell_type": "markdown",
      "id": "2f163ee2",
      "metadata": {
        "id": "2f163ee2"
      },
      "source": [
        "(v)  $ \\int_1^\\infty \\frac{sin^2x}{x(\\sqrt{x}+1)}dx $"
      ]
    },
    {
      "cell_type": "code",
      "execution_count": null,
      "id": "dad124cb",
      "metadata": {
        "id": "dad124cb",
        "outputId": "ddbbe38e-aecb-450a-e26e-83ea7f1b3af4"
      },
      "outputs": [
        {
          "name": "stderr",
          "output_type": "stream",
          "text": [
            "<ipython-input-12-1030ce183c22>:3: IntegrationWarning: The maximum number of subdivisions (50) has been achieved.\n",
            "  If increasing the limit yields no improvement it is advised to analyze \n",
            "  the integrand in order to determine the difficulties.  If the position of a \n",
            "  local difficulty can be determined (singularity, discontinuity) one will \n",
            "  probably gain from splitting up the interval and calling the integrator \n",
            "  on the subranges.  Perhaps a special-purpose integrator should be used.\n",
            "  I,e = quad(f,a,b)\n"
          ]
        },
        {
          "name": "stdout",
          "output_type": "stream",
          "text": [
            "by quad 0.7889986187805459\n",
            "by simps 0.7847684995476131\n"
          ]
        },
        {
          "data": {
            "image/png": "[encoded data removed]",
            "text/plain": [
              "<Figure size 432x288 with 1 Axes>"
            ]
          },
          "metadata": {
            "needs_background": "light"
          },
          "output_type": "display_data"
        }
      ],
      "source": [
        "f = lambda x: (np.sin(x)**2)/(x*(np.sqrt(x)+1))\n",
        "a,b = 1, np.inf\n",
        "I,e = quad(f,a,b)\n",
        "print('by quad',I)\n",
        "\n",
        "x = np.linspace(1,10000,100000)\n",
        "print('by simps',simps(f(x),x))\n",
        "plt.plot(x,f(x),'r',label='f(x)')\n",
        "plt.legend()\n",
        "plt.xlabel('x')\n",
        "plt.ylabel('Integrand')\n",
        "plt.xlim(0,50)\n",
        "plt.fill_between(x,f(x))\n",
        "plt.show()"
      ]
    },
    {
      "cell_type": "markdown",
      "id": "56083760",
      "metadata": {
        "id": "56083760"
      },
      "source": [
        "(vi)  Gamma Function:\\\n",
        "$$ \\Gamma (n)= \\int_0^\\infty e^{-x}x^{n-1}dx $$"
      ]
    },
    {
      "cell_type": "code",
      "execution_count": null,
      "id": "eb851ada",
      "metadata": {
        "id": "eb851ada",
        "outputId": "0dbce85c-d425-44ea-fa28-849790b37d53"
      },
      "outputs": [
        {
          "name": "stdout",
          "output_type": "stream",
          "text": [
            "Gamma(1/2) =  1.7724538509051182\n",
            "by Simps:  1.7661637765235596\n",
            "by trapz:  1.7662409617553068\n"
          ]
        },
        {
          "data": {
            "image/png": "[encoded data removed]",
            "text/plain": [
              "<Figure size 432x288 with 1 Axes>"
            ]
          },
          "metadata": {
            "needs_background": "light"
          },
          "output_type": "display_data"
        }
      ],
      "source": [
        "Gamma = lambda x,n: np.exp(-x)*x**(n-1)\n",
        "val,e = quad(Gamma,0,np.inf,args=1/2)  # args = 1/2 => n = 1/2 \n",
        "print('Gamma(1/2) = ',val)\n",
        "x = np.linspace(0.00001,10,1000000)\n",
        "print('by Simps: ',simps(Gamma(x,1/2),x))\n",
        "print('by trapz: ',trapz(Gamma(x,1/2),x))\n",
        "plt.plot(x,Gamma(x,1/2),'r')\n",
        "plt.xlim(-1,20)\n",
        "plt.ylim(0,10)\n",
        "plt.show()"
      ]
    },
    {
      "cell_type": "markdown",
      "id": "c49f4edb",
      "metadata": {
        "id": "c49f4edb"
      },
      "source": [
        "##### Using the transformation, $ y=\\frac{1}{1+x} $\n",
        "$\\rightarrow x = \\frac{1}{y}-1$ $ \\rightarrow $ $dx = -\\frac{1}{y^2}dy$\\\n",
        "$x=0 \\rightarrow y=1$ and $x=\\infty \\rightarrow y=0$\\\n",
        "$\\therefore$ $ \\Gamma(n)=\\int_0^1 e^{-(\\frac{1}{y}-1)}(\\frac{1}{y}-1)^{n-1}\\frac{1}{y^2}dy $"
      ]
    },
    {
      "cell_type": "code",
      "execution_count": null,
      "id": "ebcb3a03",
      "metadata": {
        "id": "ebcb3a03",
        "outputId": "15f2e0cc-ef24-448e-9f9a-08ad368fda91"
      },
      "outputs": [
        {
          "name": "stdout",
          "output_type": "stream",
          "text": [
            "Γ(3/2) =  0.8862269254527004\n",
            "Γ(3/2) by Simps:  0.8862229841748837\n",
            "Γ(3/2) by trapz:  0.886220341416182\n"
          ]
        }
      ],
      "source": [
        "gamma = lambda y,n: np.exp(-(1/y-1))*(1/y-1)**(n-1)*(1/y**2)\n",
        "val,e = quad(gamma,0,1,args=3/2)\n",
        "print('\\u0393(3/2) = ',val)\n",
        "y = np.linspace(0.0001,1,1000)\n",
        "print('\\u0393(3/2) by Simps: ',simps(gamma(y,3/2),y))\n",
        "print('\\u0393(3/2) by trapz: ',trapz(gamma(y,3/2),y))"
      ]
    },
    {
      "cell_type": "markdown",
      "id": "e51af0d8",
      "metadata": {
        "id": "e51af0d8"
      },
      "source": [
        "(vii)  $ \\int_{-\\infty}^0 e^x dx $"
      ]
    },
    {
      "cell_type": "code",
      "execution_count": null,
      "id": "4588c67f",
      "metadata": {
        "id": "4588c67f",
        "outputId": "4f749f38-d343-42ad-85e3-9bab3dfe3503"
      },
      "outputs": [
        {
          "name": "stdout",
          "output_type": "stream",
          "text": [
            "by quad (1.0000000000000002, 5.842606996763696e-11)\n",
            "by simps:  0.9999546417110169\n"
          ]
        },
        {
          "data": {
            "image/png": "[encoded data removed]",
            "text/plain": [
              "<Figure size 432x288 with 1 Axes>"
            ]
          },
          "metadata": {
            "needs_background": "light"
          },
          "output_type": "display_data"
        }
      ],
      "source": [
        "f = lambda x: np.exp(x)\n",
        "print('by quad',quad(f,-np.inf,0))\n",
        "x = np.linspace(-10,0,1000)\n",
        "plt.plot(x,f(x),'r',label='$e^x$')\n",
        "print('by simps: ',simps(f(x),x))\n",
        "plt.legend()\n",
        "plt.xlabel('x')\n",
        "plt.ylabel('Integrand')\n",
        "plt.fill_between(x,f(x),color='g')\n",
        "plt.show()"
      ]
    },
    {
      "cell_type": "markdown",
      "id": "0aef3ff2",
      "metadata": {
        "id": "0aef3ff2"
      },
      "source": [
        "(viii)  $ \\int_1^\\infty \\frac{lnx}{x^2}dx $"
      ]
    },
    {
      "cell_type": "code",
      "execution_count": null,
      "id": "28a4d78e",
      "metadata": {
        "id": "28a4d78e",
        "outputId": "3a68f1c9-a1d0-4153-9dad-25286849edd6"
      },
      "outputs": [
        {
          "name": "stdout",
          "output_type": "stream",
          "text": [
            "by quad (1.0, 1.1102230246251565e-15)\n",
            "by simps 0.9988056600034968\n",
            "by GQ16:  0.9647180591768912\n"
          ]
        },
        {
          "data": {
            "image/png": "[encoded data removed]",
            "text/plain": [
              "<Figure size 432x288 with 1 Axes>"
            ]
          },
          "metadata": {
            "needs_background": "light"
          },
          "output_type": "display_data"
        }
      ],
      "source": [
        "f = lambda x: np.log(x)/x**2\n",
        "print('by quad',quad(f,1,np.inf))\n",
        "x = np.linspace(1,10000,100000)\n",
        "print('by simps',simps(f(x),x))\n",
        "print('by GQ16: ',GQ16(f,1,100))\n",
        "plt.plot(x,f(x),'r',label='f(x)')\n",
        "plt.legend()\n",
        "plt.xlabel('x')\n",
        "plt.ylabel('Integrand')\n",
        "plt.fill_between(x,f(x))\n",
        "plt.xlim(0,60)\n",
        "plt.show()"
      ]
    },
    {
      "cell_type": "markdown",
      "id": "343a3686",
      "metadata": {
        "id": "343a3686"
      },
      "source": [
        "(ix)  $ \\int_0^1 \\frac{1}{\\sqrt{x}}dx $"
      ]
    },
    {
      "cell_type": "code",
      "execution_count": null,
      "id": "6dfb6100",
      "metadata": {
        "id": "6dfb6100",
        "outputId": "10d38500-e3c0-460c-ff43-a8972998b87a"
      },
      "outputs": [
        {
          "name": "stdout",
          "output_type": "stream",
          "text": [
            "by quad 2.0000000000000004\n",
            "by trapz:  1.9380081056411467\n",
            "by GQ16:  1.9472275114228754\n"
          ]
        },
        {
          "data": {
            "image/png": "[encoded data removed]",
            "text/plain": [
              "<Figure size 432x288 with 1 Axes>"
            ]
          },
          "metadata": {
            "needs_background": "light"
          },
          "output_type": "display_data"
        }
      ],
      "source": [
        "f = lambda x: 1/np.sqrt(x)\n",
        "I,e =quad(f,0,1)\n",
        "print('by quad',I)\n",
        "x = np.linspace(0.001,1,1000)\n",
        "print('by trapz: ',trapz(f(x),x))\n",
        "print('by GQ16: ',GQ16(f,0,1))\n",
        "plt.plot(x,f(x),'r',label='f(x)')\n",
        "plt.legend()\n",
        "plt.xlabel('x')\n",
        "plt.ylabel('Integrand')\n",
        "plt.fill_between(x,f(x))\n",
        "#plt.xlim(0,100)\n",
        "plt.show()"
      ]
    },
    {
      "cell_type": "markdown",
      "id": "7bc6bfbf",
      "metadata": {
        "id": "7bc6bfbf"
      },
      "source": [
        "# $ \\color{red}{\\text{Numerically verifying the Gaussian Integral Result:}} $\n",
        "$$ \\int_{-\\infty}^\\infty exp\\left(-ax^2+bx+c\\right) dx=\\sqrt{\\frac{\\pi}{a}}exp\\left(\\frac{b^2}{4a}+c\\right) $$"
      ]
    },
    {
      "cell_type": "code",
      "execution_count": null,
      "id": "c4bcc8e2",
      "metadata": {
        "id": "c4bcc8e2",
        "outputId": "286ac864-03b4-480e-8616-9777bfd9d79d"
      },
      "outputs": [
        {
          "name": "stdout",
          "output_type": "stream",
          "text": [
            "Exact:  6.186471815934188\n",
            "By quad using infinite range:  6.1864718159341905\n",
            "By simps:  6.18647181593419\n"
          ]
        }
      ],
      "source": [
        "a, b, c = 1, 1, 1\n",
        "def f(x):\n",
        "    return np.exp(-a*x**2+b*x+c)\n",
        "exact = np.sqrt(np.pi/a)*np.exp((b**2)/(4*a)+c)\n",
        "I,e = quad(f,-np.inf,np.inf)\n",
        "x = np.linspace(-10000,10000,100000)\n",
        "S = simps(f(x),x)\n",
        "print('Exact: ',exact)\n",
        "print('By quad using infinite range: ',I)\n",
        "print('By simps: ',S)"
      ]
    },
    {
      "cell_type": "markdown",
      "id": "2fc0a761",
      "metadata": {
        "id": "2fc0a761"
      },
      "source": [
        "## Dirac Delta Function"
      ]
    },
    {
      "cell_type": "markdown",
      "id": "6e2b2cd1",
      "metadata": {
        "id": "6e2b2cd1"
      },
      "source": [
        "# $ \\color{blue}{\\text{Verifying the property:}} $\n",
        "$$ \\int_{a-x_1}^{a+x_2} \\delta(x-a) f(x) dx = f(a) $$\n",
        "Taking the following limiting represtation of $ \\delta(x) $\\\n",
        "(i) $ \\bullet \\delta_n(x)$  $ = \\frac{n}{\\sqrt{\\pi}} e^{-n^2x^2} $\\\n",
        "(ii) $ \\bullet \\delta_n(x)$  $ = \\frac{n}{\\pi}\\frac{1}{1+n^2x^2} $\\\n",
        "(iii) $ \\bullet \\delta_n(x)$  $ = \\frac{\\sin nx}{\\pi x} $"
      ]
    },
    {
      "cell_type": "code",
      "execution_count": null,
      "id": "460e1f22",
      "metadata": {
        "id": "460e1f22",
        "outputId": "f5e490b6-9746-4e07-f134-a4cc705ace5e"
      },
      "outputs": [
        {
          "name": "stdout",
          "output_type": "stream",
          "text": [
            "Enter n: 4\n",
            "Accurate value,f(x0)= 8\n",
            "Calculated value: 8.187500000001188\n"
          ]
        },
        {
          "data": {
            "image/png": "[encoded data removed]",
            "text/plain": [
              "<Figure size 432x288 with 1 Axes>"
            ]
          },
          "metadata": {
            "needs_background": "light"
          },
          "output_type": "display_data"
        }
      ],
      "source": [
        "# (i).\n",
        "delta = lambda x,n: (n/np.sqrt(np.pi))*np.exp(-n**2*(x-x0)**2) # shifted x=0 to x=x0\n",
        "x0, n = 2, eval(input('Enter n: '))  # changing the 'n' value we can change the width of the delta function\n",
        "f = lambda x: x**3    # just a arbitrary function\n",
        "def F(x):\n",
        "    return delta(x,n)*f(x)\n",
        "print('Accurate value,f(x0)=',f(x0))\n",
        "I,e = quad(F,-np.inf,np.inf)\n",
        "print('Calculated value:',I)\n",
        "x = np.linspace(x0-10,x0+10,1000)\n",
        "plt.plot(x,delta(x,n),label='$\\delta(x)$')\n",
        "plt.plot(x,F(x))\n",
        "plt.legend()\n",
        "plt.show()"
      ]
    },
    {
      "cell_type": "code",
      "execution_count": null,
      "id": "8daf7287",
      "metadata": {
        "id": "8daf7287",
        "outputId": "a43e9d96-ec02-45eb-966e-2966edfd955e"
      },
      "outputs": [
        {
          "name": "stdout",
          "output_type": "stream",
          "text": [
            "(8.18749977853444, 5.754088790606624e-08)\n",
            "(8.1875, 5.563162583249408e-12)\n"
          ]
        }
      ],
      "source": [
        "print(quad(F,x0-1,x0+1))\n",
        "print(quad(F,x0-10,x0+10))"
      ]
    },
    {
      "cell_type": "code",
      "execution_count": null,
      "id": "e11e58dc",
      "metadata": {
        "id": "e11e58dc",
        "outputId": "fe05ee22-cc7c-4c37-82e3-b35f33355bea"
      },
      "outputs": [
        {
          "name": "stdout",
          "output_type": "stream",
          "text": [
            "Enter n: 20\n",
            "Accurate value,f(x0)= 5\n",
            "Calculated value: 4.828345056876915\n"
          ]
        },
        {
          "name": "stderr",
          "output_type": "stream",
          "text": [
            "<ipython-input-6-4fe22725ae89>:8: IntegrationWarning: The integral is probably divergent, or slowly convergent.\n",
            "  I,e = quad(F,-np.inf,np.inf)\n"
          ]
        },
        {
          "data": {
            "image/png": "[encoded data removed]",
            "text/plain": [
              "<Figure size 432x288 with 1 Axes>"
            ]
          },
          "metadata": {
            "needs_background": "light"
          },
          "output_type": "display_data"
        }
      ],
      "source": [
        "# (ii)\n",
        "delta = lambda x,n: (n/np.pi)*(1/(1+(n**2)*(x-x0)**2)) # shifted x=0 to x=x0\n",
        "x0, n = 1, eval(input('Enter n: '))  # changing the 'n' value we can change the width of the delta function\n",
        "f = lambda x: 5*x**2    # just a arbitrary function\n",
        "def F(x):\n",
        "    return delta(x,n)*f(x)\n",
        "print('Accurate value,f(x0)=',f(x0))\n",
        "I,e = quad(F,-np.inf,np.inf)\n",
        "print('Calculated value:',I)\n",
        "x = np.linspace(x0-10,x0+10,1000)\n",
        "plt.plot(x,delta(x,n))\n",
        "plt.plot(x,F(x))\n",
        "plt.show()\n",
        "# The value of the calculated result depends on the function f(x) and the entered 'n'"
      ]
    },
    {
      "cell_type": "code",
      "execution_count": null,
      "id": "37e3f9c0",
      "metadata": {
        "id": "37e3f9c0",
        "outputId": "e3e81249-262b-41c9-9e15-c1e5271b1918"
      },
      "outputs": [
        {
          "name": "stdout",
          "output_type": "stream",
          "text": [
            "Enter n: 4\n",
            "Enter x1 or x2: 15\n",
            "Accurate value,f(x)= 0\n",
            "Calculated value: 0.013966799398671258\n",
            "Over Infinite range (0.0, 0.0)\n"
          ]
        },
        {
          "data": {
            "image/png": "[encoded data removed]",
            "text/plain": [
              "<Figure size 432x288 with 1 Axes>"
            ]
          },
          "metadata": {
            "needs_background": "light"
          },
          "output_type": "display_data"
        }
      ],
      "source": [
        "# (iii).\n",
        "delta = lambda x,n: (np.sin(n*x))/(np.pi*x) # shifted x=0 to x=x0\n",
        "x0, n = 4, eval(input('Enter n: '))  # changing the 'n' value we can change the width of the delta function\n",
        "x = np.linspace(x0-15,x0+15,1000)\n",
        "f = lambda x: x    # just a arbitrary function\n",
        "def F(x):\n",
        "    return delta(x,n)*f(x)\n",
        "x1 = x2 = eval(input('Enter x1 or x2: '))\n",
        "print('Accurate value,f(x)=',f(0))\n",
        "I,e = quad(F,x0-x1,x0+x2)\n",
        "print('Calculated value:',I)\n",
        "print(\"Over Infinite range\",quad(F,-np.inf,np.inf))\n",
        "plt.plot(x,delta(x,n),label='$\\delta(x)$')\n",
        "plt.plot(x,F(x))\n",
        "plt.legend()\n",
        "plt.show()"
      ]
    },
    {
      "cell_type": "code",
      "source": [
        "# Test of Delta for the value of n\n",
        "import numpy as np\n",
        "import matplotlib.pyplot as plt\n",
        "from scipy.integrate import *\n",
        "n, x0 = 1, eval(input('Enter x0: '))\n",
        "#n = 1\n",
        "#x0 = 2\n",
        "delta = lambda x,n : (n/np.sqrt(np.pi))*(np.exp((-n**2)*(x-x0)**2))\n",
        "f = lambda x: 3*x**3\n",
        "F = lambda x : delta(x,n)*f(x)\n",
        "exact = f(x0)\n",
        "for n in range(20):\n",
        "\tID,e = quad(F,-np.inf,np.inf)\n",
        "\tk = abs(exact - ID)\n",
        "\tif k < 0.001:\n",
        "\t\tprint(n, ID, exact)\n",
        "\t\tprint('Final Difference:',k)\n",
        "\t\tbreak\n",
        "\tprint(n, ID, exact)\n",
        "\tprint('Final Difference:',k)"
      ],
      "metadata": {
        "id": "6Xao0wsbKcF3",
        "outputId": "1f2cd3f1-5362-4737-e59c-859733ecf787",
        "colab": {
          "base_uri": "https://localhost:8080/"
        }
      },
      "id": "6Xao0wsbKcF3",
      "execution_count": 2,
      "outputs": [
        {
          "output_type": "stream",
          "name": "stdout",
          "text": [
            "Enter x0: 2\n",
            "0 0.0 24\n",
            "Final Difference: 24.0\n",
            "1 33.00000000000001 24\n",
            "Final Difference: 9.000000000000007\n",
            "2 26.250000000000007 24\n",
            "Final Difference: 2.250000000000007\n",
            "3 25.000000000000007 24\n",
            "Final Difference: 1.000000000000007\n",
            "4 24.562500000003563 24\n",
            "Final Difference: 0.5625000000035634\n",
            "5 24.3600000000013 24\n",
            "Final Difference: 0.3600000000012997\n",
            "6 24.249999999999993 24\n",
            "Final Difference: 0.2499999999999929\n",
            "7 24.18367346938775 24\n",
            "Final Difference: 0.18367346938774887\n",
            "8 24.140625 24\n",
            "Final Difference: 0.140625\n",
            "9 24.111111111111114 24\n",
            "Final Difference: 0.11111111111111427\n",
            "10 24.09 24\n",
            "Final Difference: 0.08999999999999986\n",
            "11 24.074380165289263 24\n",
            "Final Difference: 0.07438016528926283\n",
            "12 24.0625 24\n",
            "Final Difference: 0.0625\n",
            "13 24.05325443788136 24\n",
            "Final Difference: 0.05325443788136042\n",
            "14 24.045918367348182 24\n",
            "Final Difference: 0.04591836734818244\n",
            "15 24.040000000000106 24\n",
            "Final Difference: 0.04000000000010573\n",
            "16 24.03515625 24\n",
            "Final Difference: 0.03515625\n",
            "17 24.031141868512105 24\n",
            "Final Difference: 0.031141868512104764\n",
            "18 24.027777777777768 24\n",
            "Final Difference: 0.02777777777776791\n",
            "19 24.02493074792243 24\n",
            "Final Difference: 0.02493074792242922\n"
          ]
        }
      ]
    },
    {
      "cell_type": "markdown",
      "id": "ae5d67db",
      "metadata": {
        "id": "ae5d67db"
      },
      "source": [
        "## $ \\color{red}{\\text{Verifying that the convolution of two Gaussian function is a Gaussian}} $"
      ]
    },
    {
      "cell_type": "markdown",
      "id": "bc411532",
      "metadata": {
        "id": "bc411532"
      },
      "source": [
        "Convolution of Two functions $f(t)$ & $g(t)$ is defined as :\n",
        "$$ f * g = \\int_{-\\infty}^{+\\infty} f(\\tau)g(t-\\tau) d\\tau=\\int_{-\\infty}^{+\\infty} g(\\tau)f(t-\\tau) d\\tau $$"
      ]
    },
    {
      "cell_type": "code",
      "execution_count": null,
      "id": "bbc08763",
      "metadata": {
        "id": "bbc08763",
        "outputId": "76692781-0e1a-4449-da9b-74a8b31ca19c"
      },
      "outputs": [
        {
          "data": {
            "image/png": "[encoded data removed]",
            "text/plain": [
              "<Figure size 432x288 with 1 Axes>"
            ]
          },
          "metadata": {
            "needs_background": "light"
          },
          "output_type": "display_data"
        }
      ],
      "source": [
        "# Convolution of two Gaussian function is a Gaussian\n",
        "f = lambda t: np.exp(-t**2)\n",
        "g = lambda t: 5*np.exp(-(t-2)**2/4)\n",
        "def fg(t):\n",
        "    tau = np.linspace(-1000,1000,10000)\n",
        "    return simps(f(tau)*g(t-tau), tau)\n",
        "t = np.linspace(-10,10,10000) # have to set the lenght of t and tau same\n",
        "fg = np.vectorize(fg)   # just for plotting. If we don't vectorize it then fg(t) gives just 1 value and we are unable to plot 10000 values(of t) vs 1 value\n",
        "plt.plot(t,fg(t),'r',label='Convolution')\n",
        "plt.plot(t,f(t),'--',label='f(t)')\n",
        "plt.plot(t,g(t),'-.',label='g(t)')\n",
        "plt.legend()\n",
        "plt.text(12,4,'It demonstrates that the convolution of two Gaussians is a Gaussian.',size=15)\n",
        "plt.show()"
      ]
    }
  ],
  "metadata": {
    "kernelspec": {
      "display_name": "Python 3",
      "language": "python",
      "name": "python3"
    },
    "language_info": {
      "codemirror_mode": {
        "name": "ipython",
        "version": 3
      },
      "file_extension": ".py",
      "mimetype": "text/x-python",
      "name": "python",
      "nbconvert_exporter": "python",
      "pygments_lexer": "ipython3",
      "version": "3.8.8"
    },
    "colab": {
      "name": "Extended Numerical Mathematical Methods.ipynb",
      "provenance": [],
      "include_colab_link": true
    }
  },
  "nbformat": 4,
  "nbformat_minor": 5
}