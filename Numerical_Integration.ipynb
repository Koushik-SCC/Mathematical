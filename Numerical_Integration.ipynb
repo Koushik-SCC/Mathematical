{
  "nbformat": 4,
  "nbformat_minor": 0,
  "metadata": {
    "colab": {
      "name": "Numerical_Integration.ipynb",
      "provenance": [],
      "authorship_tag": "ABX9TyOXzLkJxZU1S1YLrdQNo0DB",
      "include_colab_link": true
    },
    "kernelspec": {
      "name": "python3",
      "display_name": "Python 3"
    },
    "language_info": {
      "name": "python"
    }
  },
  "cells": [
    {
      "cell_type": "markdown",
      "metadata": {
        "id": "view-in-github",
        "colab_type": "text"
      },
      "source": [
        "<a href=\"https://colab.research.google.com/github/Koushik-SCC/Mathematical/blob/main/Numerical_Integration.ipynb\" target=\"_parent\"><img src=\"https://colab.research.google.com/assets/colab-badge.svg\" alt=\"Open In Colab\"/></a>"
      ]
    },
    {
      "cell_type": "markdown",
      "source": [
        "##Integration"
      ],
      "metadata": {
        "id": "LUOaclx-xL0h"
      }
    },
    {
      "cell_type": "markdown",
      "source": [
        "###Trapezoidal Rule"
      ],
      "metadata": {
        "id": "oGb22QNnxv1t"
      }
    },
    {
      "cell_type": "code",
      "source": [
        "#Trapezoidal Rule\n",
        "def Trapz(f,a,b,n):\n",
        "  h = (b-a)/n\n",
        "  s = 0\n",
        "  for i in range(1,n):\n",
        "      s += 2*f(a+i*h)\n",
        "      \n",
        "  I = (h/2)*(f(a)+f(b)+s)\n",
        "  return I"
      ],
      "metadata": {
        "id": "1VP0PhTHxmpK"
      },
      "execution_count": 26,
      "outputs": []
    },
    {
      "cell_type": "markdown",
      "source": [
        "###Simpson's 1/3 Rule"
      ],
      "metadata": {
        "id": "U_XHYhqby_MQ"
      }
    },
    {
      "cell_type": "code",
      "source": [
        "#Simpson's 1/3 Rule\n",
        "def Simps(f,a,b,n):\n",
        "  h = (b-a)/n\n",
        "  s1 = 0  #for storing the even term values. 0 is taken as the initial value\n",
        "  for i in range(2,n-1,2):\n",
        "      s1 += 2*f(a+i*h)\n",
        "  s2 = 0  # #for storing the odd term values from 1 to n-1\n",
        "  for i in range(1,n,2):\n",
        "      s2 += 4*f(a+i*h)\n",
        "  I = (h/3)*(f(a)+f(b)+s1+s2)\n",
        "  return I"
      ],
      "metadata": {
        "id": "6TQAkpi3zFF1"
      },
      "execution_count": 27,
      "outputs": []
    },
    {
      "cell_type": "markdown",
      "source": [
        "###16 points Gauss Quadrature"
      ],
      "metadata": {
        "id": "RwWWL1zhzs_u"
      }
    },
    {
      "cell_type": "code",
      "source": [
        "# 16 points Gauss Quadrature\n",
        "# The 16 weights\n",
        "w = [0.1894506104550685,0.1894506104550685,0.1826034150449236,0.1826034150449236,0.1691565193950025,0.1691565193950025,0.1495959888165767,0.1495959888165767,0.1246289712555339,0.1246289712555339,0.0951585116824928,0.0951585116824928,0.0622535239386479,0.0622535239386479,0.0271524594117541,0.0271524594117541]\n",
        "# The abscissae\n",
        "X = [-0.0950125098376374,0.0950125098376374,-0.2816035507792589,0.2816035507792589,-0.4580167776572274,0.4580167776572274,-0.6178762444026438,0.6178762444026438,-0.7554044083550030,0.7554044083550030,-0.8656312023878318,0.8656312023878318,-0.9445750230732326,0.9445750230732326,-0.9894009349916499,0.9894009349916499]\n",
        "# The Integration\n",
        "def GQ16(f,a,b):\n",
        "  I = 0 # to store data for the integration\n",
        "  for i in range(16):\n",
        "      xi = ((b-a)/2)*X[i] + (b+a)/2\n",
        "      I += w[i]*((b-a)/2)*f(xi)\n",
        "  return I"
      ],
      "metadata": {
        "id": "7VUN_iO8z5CS"
      },
      "execution_count": 28,
      "outputs": []
    },
    {
      "cell_type": "code",
      "execution_count": 29,
      "metadata": {
        "colab": {
          "base_uri": "https://localhost:8080/"
        },
        "id": "oLjgJwBFwCm_",
        "outputId": "9eea7813-9ff1-413f-8e2d-6b31b8232dc7"
      },
      "outputs": [
        {
          "name": "stdout",
          "output_type": "stream",
          "text": [
            "Enter n: 30\n"
          ]
        }
      ],
      "source": [
        "import math as m\n",
        "def K(x):                   # the integrand function (The Elliptic Integral)\n",
        "    f = 1/m.sqrt(1-0.25*(m.sin(x))**2)\n",
        "    return f\n",
        "n = eval(input('Enter n: '))   # the number of equispaced points\n",
        "a = 0      # the lower limit\n",
        "b = m.pi/2 # the upper limit"
      ]
    },
    {
      "cell_type": "code",
      "source": [
        "print('Value of the Integartion by Trapezoidal Method = ',Trapz(K,a,b,n))\n",
        "print(\"Value of the Integartion by Simpson's 1/3 Rule=\" ,Simps(K,a,b,n))\n",
        "print(\"Value of the Integartion by Gauss Quadrature=\" ,GQ16(K,a,b))"
      ],
      "metadata": {
        "colab": {
          "base_uri": "https://localhost:8080/"
        },
        "id": "1NY08AYB0_Eq",
        "outputId": "42332909-6aa5-4f6b-adfd-465687d09981"
      },
      "execution_count": 30,
      "outputs": [
        {
          "output_type": "stream",
          "name": "stdout",
          "text": [
            "Value of the Integartion by Trapezoidal Method =  1.6857503548125958\n",
            "Value of the Integartion by Simpson's 1/3 Rule= 1.685750354812596\n",
            "Value of the Integartion by Gauss Quadrature= 1.685750354812596\n"
          ]
        }
      ]
    },
    {
      "cell_type": "markdown",
      "source": [
        "### Error Function"
      ],
      "metadata": {
        "id": "SfrxxycW2aPC"
      }
    },
    {
      "cell_type": "code",
      "source": [
        "#the erf function by Gaussian Quadrature\n",
        "import numpy as np\n",
        "# the error function\n",
        "def erf1(x):\n",
        "  def m(t):\n",
        "      return (2/np.sqrt(np.pi))*np.exp(-t**2)\n",
        "  # The Integration\n",
        "  I = GQ16(m,a,x)\n",
        "  return I\n",
        "a = 0\n",
        "x = np.linspace(-4,4)\n",
        "ERF1 = []\n",
        "for i in x:\n",
        "    ERF1.append(erf1(i))\n",
        "print('Value of erf(x) using GQ: ',ERF1)\n",
        "from scipy.integrate import quad\n",
        "# using quad \n",
        "def erf2(x):\n",
        "    def F(t):\n",
        "        f = (2/(np.sqrt(np.pi)))*np.exp(-t**2)\n",
        "        return f\n",
        "    II,ee = quad(F,0,x)\n",
        "    return II\n",
        "ERF2 = []\n",
        "for i in x:\n",
        "    ERF2.append(erf2(i))\n",
        "print('Value of erf(x) using quad: ',ERF2)\n",
        "\n",
        "# the plot\n",
        "import matplotlib.pyplot as plt\n",
        "plt.subplot(211)\n",
        "plt.plot(x,ERF1,'violet',label='using Gauss Quadrature')\n",
        "plt.xlabel('x')\n",
        "plt.ylabel('$erf(x)$')\n",
        "plt.legend()\n",
        "plt.title('Error function')\n",
        "plt.subplot(212)\n",
        "plt.plot(x,ERF2,'orange',label='using quad')\n",
        "plt.xlabel('x')\n",
        "plt.ylabel('$erf(x)$')\n",
        "plt.legend()\n",
        "plt.show()"
      ],
      "metadata": {
        "colab": {
          "base_uri": "https://localhost:8080/",
          "height": 349
        },
        "id": "d68T5IM02c32",
        "outputId": "5b321502-9504-417c-a39d-6d9de58112bc"
      },
      "execution_count": 31,
      "outputs": [
        {
          "output_type": "stream",
          "name": "stdout",
          "text": [
            "Value of erf(x) using GQ:  [-0.9999999845827492, -0.9999999423568557, -0.999999795357428, -0.9999993100743112, -0.999997790863646, -0.9999932807793572, -0.9999805839378259, -0.9999466876886117, -0.9998608747070807, -0.9996548590550082, -0.9991858364520917, -0.9981732454013578, -0.9961001391736328, -0.9920752255564353, -0.9846648629619924, -0.9717267611130166, -0.9503052461237154, -0.9166712415351521, -0.8665922009819134, -0.795881904282991, -0.7012017960788293, -0.5809796664656844, -0.43621592355168953, -0.2709112977017304, -0.09190838408959276, 0.09190838408959276, 0.27091129770172945, 0.4362159235516888, 0.5809796664656839, 0.7012017960788289, 0.7958819042829907, 0.8665922009819129, 0.9166712415351518, 0.9503052461237151, 0.9717267611130166, 0.9846648629619923, 0.9920752255564355, 0.9961001391736328, 0.9981732454013579, 0.9991858364520917, 0.9996548590550083, 0.9998608747070806, 0.9999466876886118, 0.9999805839378259, 0.9999932807793571, 0.9999977908636458, 0.9999993100743113, 0.9999997953574281, 0.9999999423568557, 0.9999999845827492]\n",
            "Value of erf(x) using quad:  [-0.9999999845827422, -0.9999999423568545, -0.9999997953574281, -0.999999310074311, -0.9999977908636457, -0.999993280779357, -0.999980583937826, -0.9999466876886116, -0.9998608747070806, -0.9996548590550083, -0.9991858364520916, -0.9981732454013581, -0.9961001391736328, -0.9920752255564353, -0.9846648629619923, -0.9717267611130167, -0.9503052461237153, -0.916671241535152, -0.8665922009819131, -0.795881904282991, -0.701201796078829, -0.5809796664656843, -0.43621592355168953, -0.27091129770173034, -0.09190838408959275, 0.09190838408959275, 0.2709112977017294, 0.4362159235516887, 0.5809796664656839, 0.7012017960788287, 0.7958819042829904, 0.8665922009819127, 0.9166712415351518, 0.950305246123715, 0.9717267611130167, 0.9846648629619923, 0.9920752255564352, 0.9961001391736327, 0.998173245401358, 0.9991858364520916, 0.9996548590550082, 0.9998608747070807, 0.9999466876886116, 0.999980583937826, 0.9999932807793571, 0.9999977908636459, 0.9999993100743112, 0.9999997953574281, 0.9999999423568545, 0.9999999845827422]\n"
          ]
        },
        {
          "output_type": "display_data",
          "data": {
            "image/png": "[encoded data removed]",
            "text/plain": [
              "<Figure size 432x288 with 2 Axes>"
            ]
          },
          "metadata": {
            "needs_background": "light"
          }
        }
      ]
    }
  ]
}